{
  "nbformat": 4,
  "nbformat_minor": 0,
  "metadata": {
    "colab": {
      "provenance": []
    },
    "kernelspec": {
      "name": "python3",
      "display_name": "Python 3"
    },
    "language_info": {
      "name": "python"
    }
  },
  "cells": [
    {
      "cell_type": "markdown",
      "source": [
        "##Custom Dataset Annotator"
      ],
      "metadata": {
        "id": "0BrFU27yHuFg"
      }
    },
    {
      "cell_type": "markdown",
      "source": [
        "####Use the below link to annotate the custom dataset before training.\n",
        "\n",
        "https://tecoholic.github.io/ner-annotator/\n",
        "\n",
        "[Annotator tool](https://tecoholic.github.io/ner-annotator/)"
      ],
      "metadata": {
        "id": "WO1XgZvOHXBb"
      }
    },
    {
      "cell_type": "code",
      "execution_count": null,
      "metadata": {
        "id": "FysGbyec5grr"
      },
      "outputs": [],
      "source": [
        "import pandas as pd\n",
        "import json\n",
        "import os\n",
        "# os.chdir(r'C:\\Users\\deepa\\Downloads')\n",
        "\n",
        "with open('json_data.json', 'r', encoding='utf-8') as f:\n",
        "    data = json.load(f)\n",
        "data"
      ]
    },
    {
      "cell_type": "code",
      "source": [
        "import pandas as pd\n",
        "import json\n",
        "import os\n",
        "\n",
        "\n",
        "# with open('Cust_Sample_till_20000.json', 'r') as f:\n",
        "#     data = json.load(f)\n",
        "# data\n",
        "\n",
        "train_data = data.copy()\n",
        "train_data = [tuple(i) for i in train_data]\n",
        "train_data = [i for n, i in enumerate(train_data) if i not in train_data[:n]]\n",
        "train_data\n",
        "\n",
        "for i in train_data:\n",
        "#     print((i[1]))\n",
        "    for j in (range(len(i[1]['entities']))):\n",
        "        i[1]['entities'][j] = tuple(i[1]['entities'][j])\n",
        "train_data"
      ],
      "metadata": {
        "id": "45aBz9_I9fVe"
      },
      "execution_count": null,
      "outputs": []
    },
    {
      "cell_type": "markdown",
      "source": [
        "###Load and Unzip the Pretrained Model"
      ],
      "metadata": {
        "id": "_2vmCfjDH9WI"
      }
    },
    {
      "cell_type": "code",
      "source": [
        "#Unzipping the spacy model folder\n",
        "!unzip /content/Spacy_CUST_Model_with_emails.zip"
      ],
      "metadata": {
        "colab": {
          "base_uri": "https://localhost:8080/"
        },
        "id": "tiyPjjOv91Wj",
        "outputId": "b249f9e1-12ae-4d21-d536-4a2caefd691b"
      },
      "execution_count": 1,
      "outputs": [
        {
          "output_type": "stream",
          "name": "stdout",
          "text": [
            "Archive:  /content/Spacy_CUST_Model_with_emails.zip\n",
            "   creating: Spacy_Start_CUST_Model_with_emails_V2.08/attribute_ruler/\n",
            "  inflating: Spacy_Start_CUST_Model_with_emails_V2.08/attribute_ruler/patterns  \n",
            "  inflating: Spacy_Start_CUST_Model_with_emails_V2.08/config.cfg  \n",
            "   creating: Spacy_Start_CUST_Model_with_emails_V2.08/lemmatizer/\n",
            "   creating: Spacy_Start_CUST_Model_with_emails_V2.08/lemmatizer/lookups/\n",
            "  inflating: Spacy_Start_CUST_Model_with_emails_V2.08/lemmatizer/lookups/lookups.bin  \n",
            "  inflating: Spacy_Start_CUST_Model_with_emails_V2.08/meta.json  \n",
            "   creating: Spacy_Start_CUST_Model_with_emails_V2.08/ner/\n",
            "  inflating: Spacy_Start_CUST_Model_with_emails_V2.08/ner/cfg  \n",
            "  inflating: Spacy_Start_CUST_Model_with_emails_V2.08/ner/model  \n",
            "  inflating: Spacy_Start_CUST_Model_with_emails_V2.08/ner/moves  \n",
            "   creating: Spacy_Start_CUST_Model_with_emails_V2.08/parser/\n",
            "  inflating: Spacy_Start_CUST_Model_with_emails_V2.08/parser/cfg  \n",
            "  inflating: Spacy_Start_CUST_Model_with_emails_V2.08/parser/model  \n",
            "  inflating: Spacy_Start_CUST_Model_with_emails_V2.08/parser/moves  \n",
            "   creating: Spacy_Start_CUST_Model_with_emails_V2.08/senter/\n",
            " extracting: Spacy_Start_CUST_Model_with_emails_V2.08/senter/cfg  \n",
            "  inflating: Spacy_Start_CUST_Model_with_emails_V2.08/senter/model  \n",
            "   creating: Spacy_Start_CUST_Model_with_emails_V2.08/tagger/\n",
            "  inflating: Spacy_Start_CUST_Model_with_emails_V2.08/tagger/cfg  \n",
            "  inflating: Spacy_Start_CUST_Model_with_emails_V2.08/tagger/model  \n",
            "   creating: Spacy_Start_CUST_Model_with_emails_V2.08/tok2vec/\n",
            " extracting: Spacy_Start_CUST_Model_with_emails_V2.08/tok2vec/cfg  \n",
            "  inflating: Spacy_Start_CUST_Model_with_emails_V2.08/tok2vec/model  \n",
            "  inflating: Spacy_Start_CUST_Model_with_emails_V2.08/tokenizer  \n",
            "   creating: Spacy_Start_CUST_Model_with_emails_V2.08/vocab/\n",
            " extracting: Spacy_Start_CUST_Model_with_emails_V2.08/vocab/key2row  \n",
            "  inflating: Spacy_Start_CUST_Model_with_emails_V2.08/vocab/lookups.bin  \n",
            "  inflating: Spacy_Start_CUST_Model_with_emails_V2.08/vocab/strings.json  \n",
            "  inflating: Spacy_Start_CUST_Model_with_emails_V2.08/vocab/vectors  \n",
            " extracting: Spacy_Start_CUST_Model_with_emails_V2.08/vocab/vectors.cfg  \n"
          ]
        }
      ]
    },
    {
      "cell_type": "code",
      "source": [
        "##It is the pretrained spacy model. Can Use it if needed\n",
        "# !python -m spacy download en_core_web_sm\n"
      ],
      "metadata": {
        "id": "3EMJnGUn94ns"
      },
      "execution_count": null,
      "outputs": []
    },
    {
      "cell_type": "markdown",
      "source": [
        "###Model Training"
      ],
      "metadata": {
        "id": "D1Yh8qQ2IF1B"
      }
    },
    {
      "cell_type": "code",
      "source": [
        "import spacy,random\n",
        "from spacy.training import Example\n",
        "from google.colab import files\n",
        "from spacy.util import minibatch, compounding\n",
        "def train_spacy(data, iterations, nlp):  # <-- Add model as nlp parameter\n",
        "    TRAIN_DATA = data\n",
        "    # create the built-in pipeline components and add them to the pipeline\n",
        "    # nlp.create_pipe works for built-ins that are registered with spaCy\n",
        "    if 'ner' not in nlp.pipe_names:\n",
        "        ner = nlp.create_pipe('ner')\n",
        "        nlp.add_pipe('ner', last=True)\n",
        "\n",
        "    elif 'ner' in nlp.pipe_names:\n",
        "      ner=nlp.get_pipe(\"ner\")\n",
        "\n",
        "\n",
        "    # add labels\n",
        "    for _, annotations in TRAIN_DATA:\n",
        "         for ent in annotations.get('entities'):\n",
        "                ner.add_label(ent[2])\n",
        "\n",
        "    # get names of other pipes to disable them during training\n",
        "    # pipe_exceptions = [\"ner\", \"trf_wordpiecer\", \"trf_tok2vec\"]\n",
        "    other_pipes = [pipe for pipe in nlp.pipe_names if pipe != 'ner']  #pipe != 'ner'\n",
        "    with nlp.disable_pipes(*other_pipes):  # only train NER\n",
        "        sizes = compounding(4.0, 32.0, 1.001)\n",
        "        # optimizer = nlp.begin_training()\n",
        "        optimizer = nlp.create_optimizer()\n",
        "        for itn in range(iterations):\n",
        "            print(\"Statring iteration \" + str(itn))\n",
        "            random.shuffle(TRAIN_DATA)\n",
        "            batches = minibatch(TRAIN_DATA, size=sizes)\n",
        "            losses = {}\n",
        "            for batch in batches:\n",
        "#                 text, annotations = zip(*batch)\n",
        "\n",
        "#                 print(text, annotations)\n",
        "#                 print(\",\".join(text))\n",
        "                for text, annotations in batch:\n",
        "                    doc = nlp.make_doc(text)\n",
        "                    example = Example.from_dict(doc, annotations)\n",
        "    #                 example = Example.from_dict(doc, {\"entities\": annotations})\n",
        "                    nlp.update(\n",
        "                        [example],  # batch of texts\n",
        "                           # batch of annotations\n",
        "                        drop=0.5,  # dropout - make it harder to memorise data\n",
        "                        sgd=optimizer,  # callable to update weights\n",
        "                        losses=losses)\n",
        "                print(losses, 'Iteration Number: '+ str(itn))\n",
        "    return nlp\n",
        "\n",
        "# nlp = spacy.blank('en')  # create blank Language class  # Train new model.\n",
        "nlp = spacy.load(\"en_core_web_sm\") #Retrain the old model.\n",
        "# nlp = spacy.load('en_core_web_sm')\n",
        "nlp.max_length = 150000000000000\n",
        "start_training = train_spacy(train_data, 50, nlp)\n",
        "start_training.to_disk(\"Spacy_CUST_Model_with_emails_V2\")\n",
        "\n",
        "\n",
        "\n",
        "##Load the default spacy model\n",
        "# spacy.load('en_core_web_sm')\n",
        "\n",
        "#Code to zip the model as folder\n",
        "# !zip -r /content/Company_Cust_Email_Model_100epochs.zip /content/Spacy_CUST_Model_with_emails_V2\n",
        "\n",
        "# files.download(\"/content/Company_Cust_Email_Model_100epochs.zip\")\n"
      ],
      "metadata": {
        "id": "wnHL5sax-NFb"
      },
      "execution_count": null,
      "outputs": []
    },
    {
      "cell_type": "code",
      "source": [
        "print(nlp.pipe_names)  # should include \"ner\"\n",
        "print(nlp.get_pipe(\"ner\").labels)"
      ],
      "metadata": {
        "id": "sKnbsXOr-XSG"
      },
      "execution_count": null,
      "outputs": []
    },
    {
      "cell_type": "code",
      "source": [],
      "metadata": {
        "id": "LUQ-d15sIMVr"
      },
      "execution_count": null,
      "outputs": []
    },
    {
      "cell_type": "markdown",
      "source": [
        "###Testing the trained Model"
      ],
      "metadata": {
        "id": "MsYfWR_VIMsS"
      }
    },
    {
      "cell_type": "code",
      "source": [
        "# !zip -r /content/file.zip /content/Spacy_CUST_NAME_Model\n",
        "# start_training\n",
        "# npl = spacy.load('en_core_web_sm')\n",
        "import spacy\n",
        "from spacy import displacy\n",
        "from collections import Counter\n",
        "colors = {\"REFERENCE\": \"#ee8d48\", \"VESS\": \"#2988DC\", \"NAME\":\"#6EB071\", \"EMAIL\":\"#E05584\", \"PHONE\":\"#7F7521\"}\n",
        "options = {\"colors\": colors}\n",
        "nlp2 = spacy.load('/content/Spacy_CUST_Model_with_emails')\n",
        "\n",
        "a = \"-----Original  Message-----\\r\\n\\r\\nDear Sir/Madam,\\r\\nAs per above reference please find attached Vessel Name: PACIFIC XXXX  reply back to us with the respective information.  \\\n",
        "\\r\\nOur reference:  PRN-20253A11111-B(01)\\r\\nShould you have any questions or comments to this email and/or the attached document,\\\n",
        " please contact:\\r\\nRohit Sharma\\r\\n\\\n",
        " Email address: abcrobot@company.com\\r\\nPhone number:  +91 99999 84731\"\n",
        "\n",
        "displacy.render(nlp2(str(a)), jupyter=True, style='ent', options=options)"
      ],
      "metadata": {
        "colab": {
          "base_uri": "https://localhost:8080/",
          "height": 332
        },
        "id": "U_XbpVH3CebN",
        "outputId": "007016fe-e9e0-4cbb-bec3-31cac812f215"
      },
      "execution_count": 51,
      "outputs": [
        {
          "output_type": "display_data",
          "data": {
            "text/plain": [
              "<IPython.core.display.HTML object>"
            ],
            "text/html": [
              "<span class=\"tex2jax_ignore\"><div class=\"entities\" style=\"line-height: 2.5; direction: ltr\">-----Original  Message-----\r<br>\r<br>Dear Sir/Madam,\r<br>As per above reference please find attached Vessel Name: \n",
              "<mark class=\"entity\" style=\"background: #2988DC; padding: 0.45em 0.6em; margin: 0 0.25em; line-height: 1; border-radius: 0.35em;\">\n",
              "    PACIFIC XXXX\n",
              "    <span style=\"font-size: 0.8em; font-weight: bold; line-height: 1; border-radius: 0.35em; vertical-align: middle; margin-left: 0.5rem\">VESS</span>\n",
              "</mark>\n",
              "  reply back to us with the respective information.  \r<br>Our reference:  \n",
              "<mark class=\"entity\" style=\"background: #ee8d48; padding: 0.45em 0.6em; margin: 0 0.25em; line-height: 1; border-radius: 0.35em;\">\n",
              "    PRN-20253A11111-B(01)\n",
              "    <span style=\"font-size: 0.8em; font-weight: bold; line-height: 1; border-radius: 0.35em; vertical-align: middle; margin-left: 0.5rem\">REFERENCE</span>\n",
              "</mark>\n",
              "\r<br>Should you have any questions or comments to this email and/or the attached document, please contact:\r<br>\n",
              "<mark class=\"entity\" style=\"background: #6EB071; padding: 0.45em 0.6em; margin: 0 0.25em; line-height: 1; border-radius: 0.35em;\">\n",
              "    Rohit Sharma\n",
              "    <span style=\"font-size: 0.8em; font-weight: bold; line-height: 1; border-radius: 0.35em; vertical-align: middle; margin-left: 0.5rem\">NAME</span>\n",
              "</mark>\n",
              "\r<br> Email address: \n",
              "<mark class=\"entity\" style=\"background: #E05584; padding: 0.45em 0.6em; margin: 0 0.25em; line-height: 1; border-radius: 0.35em;\">\n",
              "    abcrobot@company.com\n",
              "    <span style=\"font-size: 0.8em; font-weight: bold; line-height: 1; border-radius: 0.35em; vertical-align: middle; margin-left: 0.5rem\">EMAIL</span>\n",
              "</mark>\n",
              "\r<br>Phone number:  \n",
              "<mark class=\"entity\" style=\"background: #7F7521; padding: 0.45em 0.6em; margin: 0 0.25em; line-height: 1; border-radius: 0.35em;\">\n",
              "    +91 99999 84731\n",
              "    <span style=\"font-size: 0.8em; font-weight: bold; line-height: 1; border-radius: 0.35em; vertical-align: middle; margin-left: 0.5rem\">PHONE</span>\n",
              "</mark>\n",
              "</div></span>"
            ]
          },
          "metadata": {}
        }
      ]
    }
  ]
}